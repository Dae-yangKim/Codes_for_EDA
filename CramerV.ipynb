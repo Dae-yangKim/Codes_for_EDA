{
 "cells": [
  {
   "cell_type": "markdown",
   "metadata": {},
   "source": [
    "$$Cramers V = \\sqrt{\\frac{x^2}{n * min(r - 1 , c-1)}}$$"
   ]
  },
  {
   "cell_type": "code",
   "execution_count": null,
   "metadata": {},
   "outputs": [],
   "source": [
    "# 필요한 라이브러리 불러오기\n",
    "\n",
    "from scipy.stats import chi2_contingency\n",
    "\n",
    "def cramer_v(var1 , var2):\n",
    "    crosstab = np.array(pd.crosstab(var1 , var2 , rownames = None , colnames = None))\n",
    "    stat = chi2_contingency(crosstab)[0]\n",
    "    obs = np.sum(crosstab)\n",
    "    mini = min(crosstab.shape) - 1\n",
    "\n",
    "    return np.sqrt(stat / (obs * mini))"
   ]
  },
  {
   "cell_type": "code",
   "execution_count": null,
   "metadata": {},
   "outputs": [],
   "source": [
    "rows = []\n",
    "for var1 in obj_data:\n",
    "    col = []\n",
    "    for var2 in obj_data:\n",
    "        cramers = cramer_v(obj_data[var1] , obj_data[var2])\n",
    "        col.append(round(cramers , 2))\n",
    "    rows.append(col)\n",
    "\n",
    "cramer_result = np.array(rows)\n",
    "result = pd.DataFrame(cramer_result , columns = obj_data.columns , index = obj_data.columns)\n",
    "\n",
    "result"
   ]
  },
  {
   "cell_type": "code",
   "execution_count": null,
   "metadata": {},
   "outputs": [],
   "source": []
  }
 ],
 "metadata": {
  "language_info": {
   "name": "python"
  }
 },
 "nbformat": 4,
 "nbformat_minor": 2
}
