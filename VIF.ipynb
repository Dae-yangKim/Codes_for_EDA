{
 "cells": [
  {
   "cell_type": "code",
   "execution_count": null,
   "metadata": {},
   "outputs": [],
   "source": [
    "# 필요한 라이브러리 import\n",
    "\n",
    "import pandas as pd\n",
    "import numpy as np\n",
    "import matplotlib.pyplot as plt\n",
    "import seaborn as sns\n",
    "\n",
    "# 분산팽창지수\n",
    "\n",
    "from statsmodels.stats.outliers_influence import variance_inflation_factor"
   ]
  },
  {
   "cell_type": "code",
   "execution_count": null,
   "metadata": {},
   "outputs": [],
   "source": [
    "# 필요한 데이터 불러오기\n",
    "\n",
    "df = pd.read_csv('../')"
   ]
  },
  {
   "cell_type": "code",
   "execution_count": null,
   "metadata": {},
   "outputs": [],
   "source": [
    "# 분산팽창지수 계산\n",
    "\n",
    "vif = pd.DataFrame()\n",
    "\n",
    "vif['VIF Factor'] = [variance_inflation_factor(df.values , i) for i in range(df.shape[1])]\n",
    "vif['features'] = df.columns\n",
    "\n",
    "vif = vif.sort_values(by = 'VIF Factor' , ascending = False)\n",
    "vif = vif.reset_index().drop(columns = 'index')\n",
    "\n",
    "vif"
   ]
  }
 ],
 "metadata": {
  "language_info": {
   "name": "python"
  }
 },
 "nbformat": 4,
 "nbformat_minor": 2
}
